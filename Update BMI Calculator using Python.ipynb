{
 "cells": [
  {
   "cell_type": "code",
   "execution_count": null,
   "id": "af3d983d",
   "metadata": {},
   "outputs": [],
   "source": [
    "#A simple BMI calculator which position the BMI value into one of the 5 categories from below:\n",
    "# <18.5 Underweight\n",
    "# <=24.9 Normal Weight\n",
    "# <29.9 Overweight\n",
    "# <34.9 Obese\n",
    "# <39.9 Severely Obese\n",
    "# >39.9 Morbidly obese"
   ]
  },
  {
   "cell_type": "code",
   "execution_count": null,
   "id": "6e39b2e2",
   "metadata": {},
   "outputs": [],
   "source": [
    "name = input(\"Enter your name: \")\n",
    "\n",
    "weight = int(input(\"Enter your weight in pounds: \"))\n",
    "\n",
    "height = int(input(\"Enter your height in inches: \"))\n",
    "\n",
    "BMI = (weight * 703) / (height * height)\n",
    "\n",
    "print(BMI)"
   ]
  },
  {
   "cell_type": "code",
   "execution_count": null,
   "id": "58ca8fe4",
   "metadata": {},
   "outputs": [],
   "source": [
    "if BMI>0:\n",
    "    if(BMI<18.5):\n",
    "        print(name +\", your are underweight.\")\n",
    "    elif(BMI<=24.9):\n",
    "        print(name +\", your are in the normal weight.\")\n",
    "    elif(BMI<29.9):\n",
    "        print(name +\", your are overweight.\")\n",
    "    elif(BMI<34.9):\n",
    "        print(name +\", your are obese.\")\n",
    "    elif(BMI<39.9):\n",
    "        print(name +\", your severily obese.\")\n",
    "    else:\n",
    "        print(name +\", you are morbidly obese.\")"
   ]
  },
  {
   "cell_type": "code",
   "execution_count": null,
   "id": "e41624f2",
   "metadata": {},
   "outputs": [],
   "source": []
  },
  {
   "cell_type": "code",
   "execution_count": null,
   "id": "aa44be79",
   "metadata": {},
   "outputs": [],
   "source": []
  },
  {
   "cell_type": "code",
   "execution_count": null,
   "id": "75b3229e",
   "metadata": {},
   "outputs": [],
   "source": []
  },
  {
   "cell_type": "code",
   "execution_count": null,
   "id": "cb3e41e8",
   "metadata": {},
   "outputs": [],
   "source": []
  },
  {
   "cell_type": "code",
   "execution_count": null,
   "id": "ea0e3969",
   "metadata": {},
   "outputs": [],
   "source": []
  },
  {
   "cell_type": "code",
   "execution_count": null,
   "id": "03cb04cc",
   "metadata": {},
   "outputs": [],
   "source": []
  }
 ],
 "metadata": {
  "kernelspec": {
   "display_name": "Python 3 (ipykernel)",
   "language": "python",
   "name": "python3"
  },
  "language_info": {
   "codemirror_mode": {
    "name": "ipython",
    "version": 3
   },
   "file_extension": ".py",
   "mimetype": "text/x-python",
   "name": "python",
   "nbconvert_exporter": "python",
   "pygments_lexer": "ipython3",
   "version": "3.11.7"
  }
 },
 "nbformat": 4,
 "nbformat_minor": 5
}
