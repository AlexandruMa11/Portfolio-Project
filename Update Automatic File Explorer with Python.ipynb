{
 "cells": [
  {
   "cell_type": "code",
   "execution_count": null,
   "id": "a70c7f8d",
   "metadata": {},
   "outputs": [],
   "source": [
    "#File management system using Python os Madule and \"for loop\" to categorize files based on their extension and place them in specific folders.\n",
    "\n",
    "import os, shutil\n",
    "path = r\"/Users/{User_name}/Downloads/Python Project/\"\n",
    "file_name = os.listdir(path)\n",
    "folder_names = ['PNG', 'JPG', 'PDF']"
   ]
  },
  {
   "cell_type": "code",
   "execution_count": null,
   "id": "f1f5ad99",
   "metadata": {},
   "outputs": [],
   "source": [
    "for loop in range(0,3):\n",
    "    if not os.path.exists(path + folder_names[loop]):"
   ]
  },
  {
   "cell_type": "code",
   "execution_count": null,
   "id": "99061b0d",
   "metadata": {},
   "outputs": [],
   "source": [
    "#print(path + folder_names[loop])\n",
    "        os.makedirs(path + folder_names[loop])\n",
    "for file in file_name:\n",
    "    if'.png' in file and not os.path.exists(path + 'PNG/' + file):\n",
    "        shutil.move(path + file, path + 'PNG/' + file)\n",
    "    elif'.pdf' in file and not os.path.exists(path + 'PDF/' + file):\n",
    "        shutil.move(path + file, path + 'PDF/' + file)\n",
    "    elif'.jpg' in file and not os.path.exists(path + 'JPG/' + file):\n",
    "        shutil.move(path + file, path + 'JPG/' + file)"
   ]
  },
  {
   "cell_type": "code",
   "execution_count": null,
   "id": "7cc7e0b0",
   "metadata": {},
   "outputs": [],
   "source": []
  },
  {
   "cell_type": "code",
   "execution_count": null,
   "id": "b44b9be0",
   "metadata": {},
   "outputs": [],
   "source": []
  },
  {
   "cell_type": "code",
   "execution_count": null,
   "id": "9c979bcb",
   "metadata": {},
   "outputs": [],
   "source": []
  },
  {
   "cell_type": "code",
   "execution_count": null,
   "id": "e0915626",
   "metadata": {},
   "outputs": [],
   "source": []
  },
  {
   "cell_type": "code",
   "execution_count": null,
   "id": "39cf46fb",
   "metadata": {},
   "outputs": [],
   "source": []
  },
  {
   "cell_type": "code",
   "execution_count": null,
   "id": "34c213cb",
   "metadata": {},
   "outputs": [],
   "source": []
  }
 ],
 "metadata": {
  "kernelspec": {
   "display_name": "Python 3 (ipykernel)",
   "language": "python",
   "name": "python3"
  },
  "language_info": {
   "codemirror_mode": {
    "name": "ipython",
    "version": 3
   },
   "file_extension": ".py",
   "mimetype": "text/x-python",
   "name": "python",
   "nbconvert_exporter": "python",
   "pygments_lexer": "ipython3",
   "version": "3.11.7"
  }
 },
 "nbformat": 4,
 "nbformat_minor": 5
}
